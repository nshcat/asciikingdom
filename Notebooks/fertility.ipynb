{
 "cells": [
  {
   "cell_type": "code",
   "execution_count": 1,
   "id": "ed1424b8",
   "metadata": {},
   "outputs": [],
   "source": [
    "def Map(value, inputRange, outputRange):\n",
    "    (iMin, iMax) = inputRange\n",
    "    (oMin, oMax) = outputRange\n",
    "    \n",
    "    if value > iMax:\n",
    "        return oMax\n",
    "    if value < iMin:\n",
    "        return oMin\n",
    "    \n",
    "    return (value - iMin) * (oMax - oMin) / (iMax - iMin) + oMin"
   ]
  },
  {
   "cell_type": "code",
   "execution_count": 2,
   "id": "b710557b",
   "metadata": {},
   "outputs": [],
   "source": [
    "def PeakMap(value, inRange, outRange):\n",
    "    (iMin, iMax) = inRange\n",
    "    (oMin, oMax) = outRange\n",
    "    \n",
    "    center = ((iMax - iMin) / 2.0) + iMin\n",
    "    \n",
    "    if value <= center:\n",
    "        return Map(value, (iMin, center), outRange)\n",
    "    else:\n",
    "        return Map(value, (center, iMax), (oMax, oMin))"
   ]
  },
  {
   "cell_type": "code",
   "execution_count": 13,
   "id": "04ac8b5c",
   "metadata": {
    "scrolled": true
   },
   "outputs": [],
   "source": [
    "from matplotlib import pyplot as plt\n",
    "from numpy import *"
   ]
  },
  {
   "cell_type": "code",
   "execution_count": 15,
   "id": "bbf5a422",
   "metadata": {},
   "outputs": [],
   "source": [
    "xs = arange(0.0, 1.0, 0.01)\n",
    "ys = [ PeakMap(x, (0.25, 0.75), (0.0, 1.0)) for x in xs ]"
   ]
  },
  {
   "cell_type": "code",
   "execution_count": 16,
   "id": "9970a9b5",
   "metadata": {},
   "outputs": [
    {
     "data": {
      "text/plain": [
       "[<matplotlib.lines.Line2D at 0x226aa18cb80>]"
      ]
     },
     "execution_count": 16,
     "metadata": {},
     "output_type": "execute_result"
    },
    {
     "data": {
      "image/png": "[encoded data removed]",
      "text/plain": [
       "<Figure size 432x288 with 1 Axes>"
      ]
     },
     "metadata": {
      "needs_background": "light"
     },
     "output_type": "display_data"
    }
   ],
   "source": [
    "plt.plot(xs, ys)"
   ]
  },
  {
   "cell_type": "code",
   "execution_count": null,
   "id": "8165a717",
   "metadata": {},
   "outputs": [],
   "source": []
  }
 ],
 "metadata": {
  "kernelspec": {
   "display_name": "Python 3",
   "language": "python",
   "name": "python3"
  },
  "language_info": {
   "codemirror_mode": {
    "name": "ipython",
    "version": 3
   },
   "file_extension": ".py",
   "mimetype": "text/x-python",
   "name": "python",
   "nbconvert_exporter": "python",
   "pygments_lexer": "ipython3",
   "version": "3.8.1"
  }
 },
 "nbformat": 4,
 "nbformat_minor": 5
}
